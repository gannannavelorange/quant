{
  "nbformat": 4,
  "nbformat_minor": 0,
  "metadata": {
    "colab": {
      "name": "event.ipynb",
      "provenance": [],
      "authorship_tag": "ABX9TyNGUAYh/GKOq4ieDWQxylXI",
      "include_colab_link": true
    },
    "kernelspec": {
      "name": "python3",
      "display_name": "Python 3"
    }
  },
  "cells": [
    {
      "cell_type": "markdown",
      "metadata": {
        "id": "view-in-github",
        "colab_type": "text"
      },
      "source": [
        "<a href=\"https://colab.research.google.com/github/gannannavelorange/quant/blob/main/src/event.ipynb\" target=\"_parent\"><img src=\"https://colab.research.google.com/assets/colab-badge.svg\" alt=\"Open In Colab\"/></a>"
      ]
    },
    {
      "cell_type": "code",
      "metadata": {
        "id": "sslS0dIxnizN"
      },
      "source": [
        "# event.py\n",
        "\n",
        "class Event(object):\n",
        "    \"\"\"\n",
        "    Event is base class providing an interface for all subsequent \n",
        "    (inherited) events, that will trigger further events in the \n",
        "    trading infrastructure.   \n",
        "    \"\"\"\n",
        "    pass"
      ],
      "execution_count": null,
      "outputs": []
    },
    {
      "cell_type": "code",
      "metadata": {
        "id": "cAdbxGNonv9M"
      },
      "source": [
        "# event.py\n",
        "\n",
        "class MarketEvent(Event):\n",
        "    \"\"\"\n",
        "    Handles the event of receiving a new market update with \n",
        "    corresponding bars.\n",
        "    \"\"\"\n",
        "\n",
        "    def __init__(self):\n",
        "        \"\"\"\n",
        "        Initialises the MarketEvent.\n",
        "        \"\"\"\n",
        "        self.type = 'MARKET'"
      ],
      "execution_count": null,
      "outputs": []
    },
    {
      "cell_type": "code",
      "metadata": {
        "id": "fCb64Je8nwAm"
      },
      "source": [
        "# event.py\n",
        "\n",
        "class SignalEvent(Event):\n",
        "    \"\"\"\n",
        "    Handles the event of sending a Signal from a Strategy object.\n",
        "    This is received by a Portfolio object and acted upon.\n",
        "    \"\"\"\n",
        "    \n",
        "    def __init__(self, symbol, datetime, signal_type):\n",
        "        \"\"\"\n",
        "        Initialises the SignalEvent.\n",
        "\n",
        "        Parameters:\n",
        "        symbol - The ticker symbol, e.g. 'GOOG'.\n",
        "        datetime - The timestamp at which the signal was generated.\n",
        "        signal_type - 'LONG' or 'SHORT'.\n",
        "        \"\"\"\n",
        "        \n",
        "        self.type = 'SIGNAL'\n",
        "        self.symbol = symbol\n",
        "        self.datetime = datetime\n",
        "        self.signal_type = signal_type"
      ],
      "execution_count": null,
      "outputs": []
    },
    {
      "cell_type": "code",
      "metadata": {
        "id": "8IUntV4FnwD9"
      },
      "source": [
        "# event.py\n",
        "\n",
        "class OrderEvent(Event):\n",
        "    \"\"\"\n",
        "    Handles the event of sending an Order to an execution system.\n",
        "    The order contains a symbol (e.g. GOOG), a type (market or limit),\n",
        "    quantity and a direction.\n",
        "    \"\"\"\n",
        "\n",
        "    def __init__(self, symbol, order_type, quantity, direction):\n",
        "        \"\"\"\n",
        "        Initialises the order type, setting whether it is\n",
        "        a Market order ('MKT') or Limit order ('LMT'), has\n",
        "        a quantity (integral) and its direction ('BUY' or\n",
        "        'SELL').\n",
        "\n",
        "        Parameters:\n",
        "        symbol - The instrument to trade.\n",
        "        order_type - 'MKT' or 'LMT' for Market or Limit.\n",
        "        quantity - Non-negative integer for quantity.\n",
        "        direction - 'BUY' or 'SELL' for long or short.\n",
        "        \"\"\"\n",
        "        \n",
        "        self.type = 'ORDER'\n",
        "        self.symbol = symbol\n",
        "        self.order_type = order_type\n",
        "        self.quantity = quantity\n",
        "        self.direction = direction\n",
        "\n",
        "    def print_order(self):\n",
        "        \"\"\"\n",
        "        Outputs the values within the Order.\n",
        "        \"\"\"\n",
        "        print \"Order: Symbol=%s, Type=%s, Quantity=%s, Direction=%s\" % \\\n",
        "            (self.symbol, self.order_type, self.quantity, self.direction)"
      ],
      "execution_count": null,
      "outputs": []
    },
    {
      "cell_type": "code",
      "metadata": {
        "id": "IYsj5qBvnwIc"
      },
      "source": [
        "# event.py\n",
        "\n",
        "class FillEvent(Event):\n",
        "    \"\"\"\n",
        "    Encapsulates the notion of a Filled Order, as returned\n",
        "    from a brokerage. Stores the quantity of an instrument\n",
        "    actually filled and at what price. In addition, stores\n",
        "    the commission of the trade from the brokerage.\n",
        "    \"\"\"\n",
        "\n",
        "    def __init__(self, timeindex, symbol, exchange, quantity, \n",
        "                 direction, fill_cost, commission=None):\n",
        "        \"\"\"\n",
        "        Initialises the FillEvent object. Sets the symbol, exchange,\n",
        "        quantity, direction, cost of fill and an optional \n",
        "        commission.\n",
        "\n",
        "        If commission is not provided, the Fill object will\n",
        "        calculate it based on the trade size and Interactive\n",
        "        Brokers fees.\n",
        "\n",
        "        Parameters:\n",
        "        timeindex - The bar-resolution when the order was filled.\n",
        "        symbol - The instrument which was filled.\n",
        "        exchange - The exchange where the order was filled.\n",
        "        quantity - The filled quantity.\n",
        "        direction - The direction of fill ('BUY' or 'SELL')\n",
        "        fill_cost - The holdings value in dollars.\n",
        "        commission - An optional commission sent from IB.\n",
        "        \"\"\"\n",
        "        \n",
        "        self.type = 'FILL'\n",
        "        self.timeindex = timeindex\n",
        "        self.symbol = symbol\n",
        "        self.exchange = exchange\n",
        "        self.quantity = quantity\n",
        "        self.direction = direction\n",
        "        self.fill_cost = fill_cost\n",
        "\n",
        "        # Calculate commission\n",
        "        if commission is None:\n",
        "            self.commission = self.calculate_ib_commission()\n",
        "        else:\n",
        "            self.commission = commission\n",
        "\n",
        "    def calculate_ib_commission(self):\n",
        "        \"\"\"\n",
        "        Calculates the fees of trading based on an Interactive\n",
        "        Brokers fee structure for API, in USD.\n",
        "\n",
        "        This does not include exchange or ECN fees.\n",
        "\n",
        "        Based on \"US API Directed Orders\":\n",
        "        https://www.interactivebrokers.com/en/index.php?f=commission&p=stocks2\n",
        "        \"\"\"\n",
        "        full_cost = 1.3\n",
        "        if self.quantity <= 500:\n",
        "            full_cost = max(1.3, 0.013 * self.quantity)\n",
        "        else: # Greater than 500\n",
        "            full_cost = max(1.3, 0.008 * self.quantity)\n",
        "        full_cost = min(full_cost, 0.5 / 100.0 * self.quantity * self.fill_cost)\n",
        "        return full_cost"
      ],
      "execution_count": null,
      "outputs": []
    }
  ]
}