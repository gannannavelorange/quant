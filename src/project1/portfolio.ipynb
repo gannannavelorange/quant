{
  "nbformat": 4,
  "nbformat_minor": 0,
  "metadata": {
    "colab": {
      "name": "portfolio.ipynb",
      "provenance": [],
      "authorship_tag": "ABX9TyNFtd47sIW+yCm+ZCcbJvhn",
      "include_colab_link": true
    },
    "kernelspec": {
      "name": "python3",
      "display_name": "Python 3"
    }
  },
  "cells": [
    {
      "cell_type": "markdown",
      "metadata": {
        "id": "view-in-github",
        "colab_type": "text"
      },
      "source": [
        "<a href=\"https://colab.research.google.com/github/gannannavelorange/quant/blob/main/src/project1/portfolio.ipynb\" target=\"_parent\"><img src=\"https://colab.research.google.com/assets/colab-badge.svg\" alt=\"Open In Colab\"/></a>"
      ]
    },
    {
      "cell_type": "code",
      "metadata": {
        "id": "G9BND8DrylgW"
      },
      "source": [
        "# portfolio.py\n",
        "\n",
        "import datetime\n",
        "import numpy as np\n",
        "import pandas as pd\n",
        "import Queue\n",
        "\n",
        "from abc import ABCMeta, abstractmethod\n",
        "from math import floor\n",
        "\n",
        "from event import FillEvent, OrderEvent"
      ],
      "execution_count": null,
      "outputs": []
    },
    {
      "cell_type": "code",
      "metadata": {
        "id": "OQFHmSUoyrCY"
      },
      "source": [
        "# portfolio.py\n",
        "\n",
        "class Portfolio(object):\n",
        "    \"\"\"\n",
        "    The Portfolio class handles the positions and market\n",
        "    value of all instruments at a resolution of a \"bar\",\n",
        "    i.e. secondly, minutely, 5-min, 30-min, 60 min or EOD.\n",
        "    \"\"\"\n",
        "\n",
        "    __metaclass__ = ABCMeta\n",
        "\n",
        "    @abstractmethod\n",
        "    def update_signal(self, event):\n",
        "        \"\"\"\n",
        "        Acts on a SignalEvent to generate new orders \n",
        "        based on the portfolio logic.\n",
        "        \"\"\"\n",
        "        raise NotImplementedError(\"Should implement update_signal()\")\n",
        "\n",
        "    @abstractmethod\n",
        "    def update_fill(self, event):\n",
        "        \"\"\"\n",
        "        Updates the portfolio current positions and holdings \n",
        "        from a FillEvent.\n",
        "        \"\"\"\n",
        "        raise NotImplementedError(\"Should implement update_fill()\")"
      ],
      "execution_count": null,
      "outputs": []
    },
    {
      "cell_type": "code",
      "metadata": {
        "id": "dOBG0JTLyrJA"
      },
      "source": [
        "# portfolio.py\n",
        "\n",
        "class NaivePortfolio(Portfolio):\n",
        "    \"\"\"\n",
        "    The NaivePortfolio object is designed to send orders to\n",
        "    a brokerage object with a constant quantity size blindly,\n",
        "    i.e. without any risk management or position sizing. It is\n",
        "    used to test simpler strategies such as BuyAndHoldStrategy.\n",
        "    \"\"\"\n",
        "    \n",
        "    def __init__(self, bars, events, start_date, initial_capital=100000.0):\n",
        "        \"\"\"\n",
        "        Initialises the portfolio with bars and an event queue. \n",
        "        Also includes a starting datetime index and initial capital \n",
        "        (USD unless otherwise stated).\n",
        "\n",
        "        Parameters:\n",
        "        bars - The DataHandler object with current market data.\n",
        "        events - The Event Queue object.\n",
        "        start_date - The start date (bar) of the portfolio.\n",
        "        initial_capital - The starting capital in USD.\n",
        "        \"\"\"\n",
        "        self.bars = bars\n",
        "        self.events = events\n",
        "        self.symbol_list = self.bars.symbol_list\n",
        "        self.start_date = start_date\n",
        "        self.initial_capital = initial_capital\n",
        "        \n",
        "        self.all_positions = self.construct_all_positions()\n",
        "        self.current_positions = dict( (k,v) for k, v in [(s, 0) for s in self.symbol_list] )\n",
        "\n",
        "        self.all_holdings = self.construct_all_holdings()\n",
        "        self.current_holdings = self.construct_current_holdings()"
      ],
      "execution_count": null,
      "outputs": []
    },
    {
      "cell_type": "code",
      "metadata": {
        "id": "T4rPzeclyrOU"
      },
      "source": [
        "# portfolio.py\n",
        "\n",
        "    def construct_all_positions(self):\n",
        "        \"\"\"\n",
        "        Constructs the positions list using the start_date\n",
        "        to determine when the time index will begin.\n",
        "        \"\"\"\n",
        "        d = dict( (k,v) for k, v in [(s, 0) for s in self.symbol_list] )\n",
        "        d['datetime'] = self.start_date\n",
        "        return [d]"
      ],
      "execution_count": null,
      "outputs": []
    },
    {
      "cell_type": "code",
      "metadata": {
        "id": "rBtXXfRjyrSf"
      },
      "source": [
        "# portfolio.py\n",
        "\n",
        "    def construct_all_holdings(self):\n",
        "        \"\"\"\n",
        "        Constructs the holdings list using the start_date\n",
        "        to determine when the time index will begin.\n",
        "        \"\"\"\n",
        "        d = dict( (k,v) for k, v in [(s, 0.0) for s in self.symbol_list] )\n",
        "        d['datetime'] = self.start_date\n",
        "        d['cash'] = self.initial_capital\n",
        "        d['commission'] = 0.0\n",
        "        d['total'] = self.initial_capital\n",
        "        return [d]"
      ],
      "execution_count": null,
      "outputs": []
    },
    {
      "cell_type": "code",
      "metadata": {
        "id": "dxQxqjCiy-OX"
      },
      "source": [
        "# portfolio.py\n",
        "\n",
        "    def construct_current_holdings(self):\n",
        "        \"\"\"\n",
        "        This constructs the dictionary which will hold the instantaneous\n",
        "        value of the portfolio across all symbols.\n",
        "        \"\"\"\n",
        "        d = dict( (k,v) for k, v in [(s, 0.0) for s in self.symbol_list] )\n",
        "        d['cash'] = self.initial_capital\n",
        "        d['commission'] = 0.0\n",
        "        d['total'] = self.initial_capital\n",
        "        return d"
      ],
      "execution_count": null,
      "outputs": []
    },
    {
      "cell_type": "code",
      "metadata": {
        "id": "cAmRb5IbzAuH"
      },
      "source": [
        "# portfolio.py\n",
        "\n",
        "    def update_timeindex(self, event):\n",
        "        \"\"\"\n",
        "        Adds a new record to the positions matrix for the current \n",
        "        market data bar. This reflects the PREVIOUS bar, i.e. all\n",
        "        current market data at this stage is known (OLHCVI).\n",
        "\n",
        "        Makes use of a MarketEvent from the events queue.\n",
        "        \"\"\"\n",
        "        bars = {}\n",
        "        for sym in self.symbol_list:\n",
        "            bars[sym] = self.bars.get_latest_bars(sym, N=1)\n",
        "\n",
        "        # Update positions\n",
        "        dp = dict( (k,v) for k, v in [(s, 0) for s in self.symbol_list] )\n",
        "        dp['datetime'] = bars[self.symbol_list[0]][0][1]\n",
        "\n",
        "        for s in self.symbol_list:\n",
        "            dp[s] = self.current_positions[s]\n",
        "\n",
        "        # Append the current positions\n",
        "        self.all_positions.append(dp)\n",
        "\n",
        "        # Update holdings\n",
        "        dh = dict( (k,v) for k, v in [(s, 0) for s in self.symbol_list] )\n",
        "        dh['datetime'] = bars[self.symbol_list[0]][0][1]\n",
        "        dh['cash'] = self.current_holdings['cash']\n",
        "        dh['commission'] = self.current_holdings['commission']\n",
        "        dh['total'] = self.current_holdings['cash']\n",
        "\n",
        "        for s in self.symbol_list:\n",
        "            # Approximation to the real value\n",
        "            market_value = self.current_positions[s] * bars[s][0][5]\n",
        "            dh[s] = market_value\n",
        "            dh['total'] += market_value\n",
        "\n",
        "        # Append the current holdings\n",
        "        self.all_holdings.append(dh)"
      ],
      "execution_count": null,
      "outputs": []
    },
    {
      "cell_type": "code",
      "metadata": {
        "id": "TuAaOpfOzAxr"
      },
      "source": [
        "# portfolio.py\n",
        "\n",
        "    def update_positions_from_fill(self, fill):\n",
        "        \"\"\"\n",
        "        Takes a FilltEvent object and updates the position matrix\n",
        "        to reflect the new position.\n",
        "\n",
        "        Parameters:\n",
        "        fill - The FillEvent object to update the positions with.\n",
        "        \"\"\"\n",
        "        # Check whether the fill is a buy or sell\n",
        "        fill_dir = 0\n",
        "        if fill.direction == 'BUY':\n",
        "            fill_dir = 1\n",
        "        if fill.direction == 'SELL':\n",
        "            fill_dir = -1\n",
        "\n",
        "        # Update positions list with new quantities\n",
        "        self.current_positions[fill.symbol] += fill_dir*fill.quantity"
      ],
      "execution_count": null,
      "outputs": []
    },
    {
      "cell_type": "code",
      "metadata": {
        "id": "E4WhbcEvzKeB"
      },
      "source": [
        "# portfolio.py\n",
        "\n",
        "    def update_holdings_from_fill(self, fill):\n",
        "        \"\"\"\n",
        "        Takes a FillEvent object and updates the holdings matrix\n",
        "        to reflect the holdings value.\n",
        "\n",
        "        Parameters:\n",
        "        fill - The FillEvent object to update the holdings with.\n",
        "        \"\"\"\n",
        "        # Check whether the fill is a buy or sell\n",
        "        fill_dir = 0\n",
        "        if fill.direction == 'BUY':\n",
        "            fill_dir = 1\n",
        "        if fill.direction == 'SELL':\n",
        "            fill_dir = -1\n",
        "\n",
        "        # Update holdings list with new quantities\n",
        "        fill_cost = self.bars.get_latest_bars(fill.symbol)[0][5]  # Close price\n",
        "        cost = fill_dir * fill_cost * fill.quantity\n",
        "        self.current_holdings[fill.symbol] += cost\n",
        "        self.current_holdings['commission'] += fill.commission\n",
        "        self.current_holdings['cash'] -= (cost + fill.commission)\n",
        "        self.current_holdings['total'] -= (cost + fill.commission)"
      ],
      "execution_count": null,
      "outputs": []
    },
    {
      "cell_type": "code",
      "metadata": {
        "id": "sd-zO8uKzKmO"
      },
      "source": [
        "# portfolio.py\n",
        "\n",
        "    def update_fill(self, event):\n",
        "        \"\"\"\n",
        "        Updates the portfolio current positions and holdings \n",
        "        from a FillEvent.\n",
        "        \"\"\"\n",
        "        if event.type == 'FILL':\n",
        "            self.update_positions_from_fill(event)\n",
        "            self.update_holdings_from_fill(event)"
      ],
      "execution_count": null,
      "outputs": []
    },
    {
      "cell_type": "code",
      "metadata": {
        "id": "4RDeHxvAzKpv"
      },
      "source": [
        "# portfolio.py\n",
        "\n",
        "    def generate_naive_order(self, signal):\n",
        "        \"\"\"\n",
        "        Simply transacts an OrderEvent object as a constant quantity\n",
        "        sizing of the signal object, without risk management or\n",
        "        position sizing considerations.\n",
        "\n",
        "        Parameters:\n",
        "        signal - The SignalEvent signal information.\n",
        "        \"\"\"\n",
        "        order = None\n",
        "\n",
        "        symbol = signal.symbol\n",
        "        direction = signal.signal_type\n",
        "        strength = signal.strength\n",
        "\n",
        "        mkt_quantity = floor(100 * strength)\n",
        "        cur_quantity = self.current_positions[symbol]\n",
        "        order_type = 'MKT'\n",
        "\n",
        "        if direction == 'LONG' and cur_quantity == 0:\n",
        "            order = OrderEvent(symbol, order_type, mkt_quantity, 'BUY')\n",
        "        if direction == 'SHORT' and cur_quantity == 0:\n",
        "            order = OrderEvent(symbol, order_type, mkt_quantity, 'SELL')   \n",
        "    \n",
        "        if direction == 'EXIT' and cur_quantity > 0:\n",
        "            order = OrderEvent(symbol, order_type, abs(cur_quantity), 'SELL')\n",
        "        if direction == 'EXIT' and cur_quantity < 0:\n",
        "            order = OrderEvent(symbol, order_type, abs(cur_quantity), 'BUY')\n",
        "        return order"
      ],
      "execution_count": null,
      "outputs": []
    },
    {
      "cell_type": "code",
      "metadata": {
        "id": "rJYES3gtzKtG"
      },
      "source": [
        "# portfolio.py\n",
        "\n",
        "    def update_signal(self, event):\n",
        "        \"\"\"\n",
        "        Acts on a SignalEvent to generate new orders \n",
        "        based on the portfolio logic.\n",
        "        \"\"\"\n",
        "        if event.type == 'SIGNAL':\n",
        "            order_event = self.generate_naive_order(event)\n",
        "            self.events.put(order_event)"
      ],
      "execution_count": null,
      "outputs": []
    },
    {
      "cell_type": "code",
      "metadata": {
        "id": "KwwrCeR4zWEp"
      },
      "source": [
        "# portfolio.py\n",
        "\n",
        "    def create_equity_curve_dataframe(self):\n",
        "        \"\"\"\n",
        "        Creates a pandas DataFrame from the all_holdings\n",
        "        list of dictionaries.\n",
        "        \"\"\"\n",
        "        curve = pd.DataFrame(self.all_holdings)\n",
        "        curve.set_index('datetime', inplace=True)\n",
        "        curve['returns'] = curve['total'].pct_change()\n",
        "        curve['equity_curve'] = (1.0+curve['returns']).cumprod()\n",
        "        self.equity_curve = curve"
      ],
      "execution_count": null,
      "outputs": []
    },
    {
      "cell_type": "code",
      "metadata": {
        "id": "foZzxV3BzWHN"
      },
      "source": [
        ""
      ],
      "execution_count": null,
      "outputs": []
    },
    {
      "cell_type": "code",
      "metadata": {
        "id": "GKVC_KfnzWJz"
      },
      "source": [
        ""
      ],
      "execution_count": null,
      "outputs": []
    }
  ]
}