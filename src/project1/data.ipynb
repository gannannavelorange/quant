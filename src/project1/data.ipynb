{
  "nbformat": 4,
  "nbformat_minor": 0,
  "metadata": {
    "colab": {
      "name": "data.ipynb",
      "provenance": [],
      "authorship_tag": "ABX9TyN/IqsqJv4KsGEoIwbVEdMm",
      "include_colab_link": true
    },
    "kernelspec": {
      "name": "python3",
      "display_name": "Python 3"
    }
  },
  "cells": [
    {
      "cell_type": "markdown",
      "metadata": {
        "id": "view-in-github",
        "colab_type": "text"
      },
      "source": [
        "<a href=\"https://colab.research.google.com/github/gannannavelorange/quant/blob/main/src/project1/data.ipynb\" target=\"_parent\"><img src=\"https://colab.research.google.com/assets/colab-badge.svg\" alt=\"Open In Colab\"/></a>"
      ]
    },
    {
      "cell_type": "code",
      "metadata": {
        "id": "FRYGNetzrImT",
        "outputId": "e92909a0-aefb-4ed3-f0c8-1ac9126c4f3f",
        "colab": {
          "base_uri": "https://localhost:8080/"
        }
      },
      "source": [
        "!git clone https://github.com/gannannavelorange/quant"
      ],
      "execution_count": 11,
      "outputs": [
        {
          "output_type": "stream",
          "text": [
            "Cloning into 'quant'...\n",
            "remote: Enumerating objects: 31, done.\u001b[K\n",
            "remote: Counting objects: 100% (31/31), done.\u001b[K\n",
            "remote: Compressing objects: 100% (24/24), done.\u001b[K\n",
            "remote: Total 31 (delta 10), reused 0 (delta 0), pack-reused 0\u001b[K\n",
            "Unpacking objects: 100% (31/31), done.\n"
          ],
          "name": "stdout"
        }
      ]
    },
    {
      "cell_type": "code",
      "metadata": {
        "id": "QgkwklAXrbEE",
        "outputId": "6dff413d-1296-49df-8b41-857cd6705e0c",
        "colab": {
          "base_uri": "https://localhost:8080/"
        }
      },
      "source": [
        "cd quant/src/project1"
      ],
      "execution_count": 12,
      "outputs": [
        {
          "output_type": "stream",
          "text": [
            "/content/quant/src/quant/src/project1/quant/src/project1\n"
          ],
          "name": "stdout"
        }
      ]
    },
    {
      "cell_type": "code",
      "metadata": {
        "id": "AtDcDoUvonl9"
      },
      "source": [
        "# data.py\n",
        "\n",
        "import datetime\n",
        "import os, os.path\n",
        "import pandas as pd\n",
        "\n",
        "from abc import ABCMeta, abstractmethod\n",
        "\n",
        "from event import MarketEvent"
      ],
      "execution_count": null,
      "outputs": []
    },
    {
      "cell_type": "code",
      "metadata": {
        "id": "AiDRWcEWpPK0"
      },
      "source": [
        "# data.py\n",
        "\n",
        "class DataHandler(object):\n",
        "    \"\"\"\n",
        "    DataHandler is an abstract base class providing an interface for\n",
        "    all subsequent (inherited) data handlers (both live and historic).\n",
        "\n",
        "    The goal of a (derived) DataHandler object is to output a generated\n",
        "    set of bars (OLHCVI) for each symbol requested. \n",
        "\n",
        "    This will replicate how a live strategy would function as current\n",
        "    market data would be sent \"down the pipe\". Thus a historic and live\n",
        "    system will be treated identically by the rest of the backtesting suite.\n",
        "    \"\"\"\n",
        "\n",
        "    __metaclass__ = ABCMeta\n",
        "\n",
        "    @abstractmethod\n",
        "    def get_latest_bars(self, symbol, N=1):\n",
        "        \"\"\"\n",
        "        Returns the last N bars from the latest_symbol list,\n",
        "        or fewer if less bars are available.\n",
        "        \"\"\"\n",
        "        raise NotImplementedError(\"Should implement get_latest_bars()\")\n",
        "\n",
        "    @abstractmethod\n",
        "    def update_bars(self):\n",
        "        \"\"\"\n",
        "        Pushes the latest bar to the latest symbol structure\n",
        "        for all symbols in the symbol list.\n",
        "        \"\"\"\n",
        "        raise NotImplementedError(\"Should implement update_bars()\")"
      ],
      "execution_count": null,
      "outputs": []
    },
    {
      "cell_type": "code",
      "metadata": {
        "id": "DjrXsozWpUEh"
      },
      "source": [
        "# data.py\n",
        "\n",
        "class HistoricCSVDataHandler(DataHandler):\n",
        "    \"\"\"\n",
        "    HistoricCSVDataHandler is designed to read CSV files for\n",
        "    each requested symbol from disk and provide an interface\n",
        "    to obtain the \"latest\" bar in a manner identical to a live\n",
        "    trading interface. \n",
        "    \"\"\"\n",
        "\n",
        "    def __init__(self, events, csv_dir, symbol_list):\n",
        "        \"\"\"\n",
        "        Initialises the historic data handler by requesting\n",
        "        the location of the CSV files and a list of symbols.\n",
        "\n",
        "        It will be assumed that all files are of the form\n",
        "        'symbol.csv', where symbol is a string in the list.\n",
        "\n",
        "        Parameters:\n",
        "        events - The Event Queue.\n",
        "        csv_dir - Absolute directory path to the CSV files.\n",
        "        symbol_list - A list of symbol strings.\n",
        "        \"\"\"\n",
        "        self.events = events\n",
        "        self.csv_dir = csv_dir\n",
        "        self.symbol_list = symbol_list\n",
        "\n",
        "        self.symbol_data = {}\n",
        "        self.latest_symbol_data = {}\n",
        "        self.continue_backtest = True       \n",
        "\n",
        "        self._open_convert_csv_files()"
      ],
      "execution_count": null,
      "outputs": []
    },
    {
      "cell_type": "code",
      "metadata": {
        "id": "I901nTykpXb0"
      },
      "source": [
        "# data.py\n",
        "\n",
        "    def _open_convert_csv_files(self):\n",
        "        \"\"\"\n",
        "        Opens the CSV files from the data directory, converting\n",
        "        them into pandas DataFrames within a symbol dictionary.\n",
        "\n",
        "        For this handler it will be assumed that the data is\n",
        "        taken from DTN IQFeed. Thus its format will be respected.\n",
        "        \"\"\"\n",
        "        comb_index = None\n",
        "        for s in self.symbol_list:\n",
        "            # Load the CSV file with no header information, indexed on date\n",
        "            self.symbol_data[s] = pd.io.parsers.read_csv(\n",
        "                                      os.path.join(self.csv_dir, '%s.csv' % s),\n",
        "                                      header=0, index_col=0, \n",
        "                                      names=['datetime','open','low','high','close','volume','oi']\n",
        "                                  )\n",
        "\n",
        "            # Combine the index to pad forward values\n",
        "            if comb_index is None:\n",
        "                comb_index = self.symbol_data[s].index\n",
        "            else:\n",
        "                comb_index.union(self.symbol_data[s].index)\n",
        "\n",
        "            # Set the latest symbol_data to None\n",
        "            self.latest_symbol_data[s] = []\n",
        "\n",
        "        # Reindex the dataframes\n",
        "        for s in self.symbol_list:\n",
        "            self.symbol_data[s] = self.symbol_data[s].reindex(index=comb_index, method='pad').iterrows()"
      ],
      "execution_count": null,
      "outputs": []
    },
    {
      "cell_type": "code",
      "metadata": {
        "id": "jJ4PqIJZpdxb"
      },
      "source": [
        "# data.py\n",
        "\n",
        "    def _get_new_bar(self, symbol):\n",
        "        \"\"\"\n",
        "        Returns the latest bar from the data feed as a tuple of \n",
        "        (sybmbol, datetime, open, low, high, close, volume).\n",
        "        \"\"\"\n",
        "        for b in self.symbol_data[symbol]:\n",
        "            yield tuple([symbol, datetime.datetime.strptime(b[0], '%Y-%m-%d %H:%M:%S'), \n",
        "                        b[1][0], b[1][1], b[1][2], b[1][3], b[1][4]])"
      ],
      "execution_count": null,
      "outputs": []
    },
    {
      "cell_type": "code",
      "metadata": {
        "id": "mJuGLXGPph0P"
      },
      "source": [
        "# data.py\n",
        "\n",
        "    def get_latest_bars(self, symbol, N=1):\n",
        "        \"\"\"\n",
        "        Returns the last N bars from the latest_symbol list,\n",
        "        or N-k if less available.\n",
        "        \"\"\"\n",
        "        try:\n",
        "            bars_list = self.latest_symbol_data[symbol]\n",
        "        except KeyError:\n",
        "            print \"That symbol is not available in the historical data set.\"\n",
        "        else:\n",
        "            return bars_list[-N:]"
      ],
      "execution_count": null,
      "outputs": []
    },
    {
      "cell_type": "code",
      "metadata": {
        "id": "5vY0forqplnL"
      },
      "source": [
        "# data.py\n",
        "\n",
        "    def update_bars(self):\n",
        "        \"\"\"\n",
        "        Pushes the latest bar to the latest_symbol_data structure\n",
        "        for all symbols in the symbol list.\n",
        "        \"\"\"\n",
        "        for s in self.symbol_list:\n",
        "            try:\n",
        "                bar = self._get_new_bar(s).next()\n",
        "            except StopIteration:\n",
        "                self.continue_backtest = False\n",
        "            else:\n",
        "                if bar is not None:\n",
        "                    self.latest_symbol_data[s].append(bar)\n",
        "        self.events.put(MarketEvent())"
      ],
      "execution_count": null,
      "outputs": []
    }
  ]
}